{
 "cells": [
  {
   "cell_type": "code",
   "execution_count": 1,
   "metadata": {},
   "outputs": [
    {
     "name": "stderr",
     "output_type": "stream",
     "text": [
      "Using TensorFlow backend.\n"
     ]
    },
    {
     "data": {
      "text/plain": [
       "<tensorflow.python.client.session.Session at 0x7f9bbc24c908>"
      ]
     },
     "execution_count": 1,
     "metadata": {},
     "output_type": "execute_result"
    }
   ],
   "source": [
    "from keras.models import Model, Sequential, load_model\n",
    "from keras.layers import Input, Dense\n",
    "from keras.callbacks import EarlyStopping\n",
    "from keras.optimizers import Adam\n",
    "from keras.layers.normalization import BatchNormalization\n",
    "import tensorflow as tf\n",
    "from random import randint, shuffle\n",
    "import pandas as pd\n",
    "import matplotlib.pyplot as plt\n",
    "import matplotlib as mpl\n",
    "import numpy as np\n",
    "import pickle\n",
    "import os\n",
    "\n",
    "from keras.datasets import boston_housing\n",
    "\n",
    "tf.Session(config=tf.ConfigProto(log_device_placement=True))"
   ]
  },
  {
   "cell_type": "markdown",
   "metadata": {},
   "source": [
    "# Related links\n",
    "\n",
    "https://github.com/keras-team/keras/issues/7947 - comprehensive regression example\n",
    "\n",
    "A target variable with a large spread of values, in turn, may result in large error gradient values causing weight values to change dramatically, making the learning process unstable. - https://machinelearningmastery.com/how-to-improve-neural-network-stability-and-modeling-performance-with-data-scaling/\n",
    "\n",
    "A good rule of thumb is that input variables should be small values, probably in the range of 0-1 (normalized with MinMaxScaler https://scikit-learn.org/stable/modules/generated/sklearn.preprocessing.MinMaxScaler.html) or standardized (StandardScaler https://scikit-learn.org/stable/modules/generated/sklearn.preprocessing.StandardScaler.html) with a zero mean and a standard deviation of one.\n",
    "\n",
    "https://deepmind.com/blog/population-based-training-neural-networks/\n",
    "\n",
    "\n"
   ]
  },
  {
   "cell_type": "code",
   "execution_count": 2,
   "metadata": {},
   "outputs": [],
   "source": [
    "def f(i, random_factor=10):\n",
    "    return (i * (i + 1)) + randint(0,random_factor) # Added the random so we will get an error close to that"
   ]
  },
  {
   "cell_type": "code",
   "execution_count": 3,
   "metadata": {},
   "outputs": [],
   "source": [
    "N = 500000 # Number of X points\n",
    "Z = 10 # Number of Y per X point\n",
    "M = Z * N # Number of Y to generate\n",
    "data = []\n",
    "\n",
    "for i in range(0,M): # Generate Y values\n",
    "    calc = i % N # X position\n",
    "    data.append([calc,f(calc)]) # Calculate Y\n",
    "    \n",
    "shuffle(data) # Better for training"
   ]
  },
  {
   "cell_type": "code",
   "execution_count": 4,
   "metadata": {},
   "outputs": [
    {
     "data": {
      "text/plain": [
       "5000000"
      ]
     },
     "execution_count": 4,
     "metadata": {},
     "output_type": "execute_result"
    }
   ],
   "source": [
    "len(data)"
   ]
  },
  {
   "cell_type": "code",
   "execution_count": 5,
   "metadata": {},
   "outputs": [
    {
     "name": "stdout",
     "output_type": "stream",
     "text": [
      "[127717, 16311759810]\n",
      "[337203, 113706200416]\n",
      "[472704, 223449544330]\n",
      "[461934, 213383482294]\n",
      "[131078, 17181573163]\n"
     ]
    }
   ],
   "source": [
    "for i in range(0,5):\n",
    "    print(data[i])"
   ]
  },
  {
   "cell_type": "code",
   "execution_count": 6,
   "metadata": {},
   "outputs": [],
   "source": [
    "df = pd.DataFrame(data, columns=['x','y'])"
   ]
  },
  {
   "cell_type": "code",
   "execution_count": 7,
   "metadata": {},
   "outputs": [
    {
     "data": {
      "image/png": "[encoded data removed]",
      "text/plain": [
       "<Figure size 432x288 with 1 Axes>"
      ]
     },
     "metadata": {
      "needs_background": "light"
     },
     "output_type": "display_data"
    }
   ],
   "source": [
    "mpl.rcParams['agg.path.chunksize'] = 10000\n",
    "#plt.yscale('log')\n",
    "plt.plot(df['x'], df['y'], 'o')\n",
    "plt.show()"
   ]
  },
  {
   "cell_type": "code",
   "execution_count": 8,
   "metadata": {},
   "outputs": [
    {
     "data": {
      "image/png": "[encoded data removed]",
      "text/plain": [
       "<Figure size 432x288 with 1 Axes>"
      ]
     },
     "metadata": {
      "needs_background": "light"
     },
     "output_type": "display_data"
    }
   ],
   "source": [
    "plt.hist(df['y'])\n",
    "plt.show()"
   ]
  },
  {
   "cell_type": "code",
   "execution_count": 9,
   "metadata": {},
   "outputs": [
    {
     "data": {
      "text/plain": [
       "array([[<matplotlib.axes._subplots.AxesSubplot object at 0x7f9af81cd6d8>,\n",
       "        <matplotlib.axes._subplots.AxesSubplot object at 0x7f9af5a9bef0>]],\n",
       "      dtype=object)"
      ]
     },
     "execution_count": 9,
     "metadata": {},
     "output_type": "execute_result"
    },
    {
     "data": {
      "image/png": "[encoded data removed]",
      "text/plain": [
       "<Figure size 432x288 with 2 Axes>"
      ]
     },
     "metadata": {
      "needs_background": "light"
     },
     "output_type": "display_data"
    }
   ],
   "source": [
    "df.hist(bins=100)"
   ]
  },
  {
   "cell_type": "code",
   "execution_count": 10,
   "metadata": {},
   "outputs": [
    {
     "name": "stdout",
     "output_type": "stream",
     "text": [
      "            x        y\n",
      "1410184  1000  1001009\n",
      "1497274  1000  1001006\n",
      "2533043  1000  1001000\n",
      "3495254  1000  1001005\n",
      "3722211  1000  1001005\n",
      "3815532  1000  1001004\n",
      "4506002  1000  1001004\n",
      "4565026  1000  1001001\n",
      "4663391  1000  1001001\n",
      "4852165  1000  1001010\n",
      "            x        y\n",
      "823399   1001  1003005\n",
      "1125961  1001  1003003\n",
      "1501541  1001  1003002\n",
      "1679858  1001  1003011\n",
      "1806875  1001  1003003\n",
      "2064280  1001  1003002\n",
      "2416685  1001  1003002\n",
      "3851205  1001  1003005\n",
      "3990125  1001  1003010\n",
      "4004999  1001  1003007\n",
      "            x        y\n",
      "479853   1002  1005014\n",
      "970828   1002  1005007\n",
      "1072237  1002  1005016\n",
      "2198834  1002  1005013\n",
      "2875021  1002  1005011\n",
      "3044015  1002  1005010\n",
      "3134234  1002  1005016\n",
      "3900237  1002  1005015\n",
      "4262044  1002  1005011\n",
      "4678724  1002  1005009\n",
      "            x        y\n",
      "332672   1003  1007016\n",
      "387037   1003  1007022\n",
      "2241766  1003  1007013\n",
      "2807511  1003  1007019\n",
      "2882727  1003  1007015\n",
      "3673789  1003  1007022\n",
      "4116699  1003  1007014\n",
      "4200025  1003  1007016\n",
      "4768016  1003  1007019\n",
      "4928749  1003  1007015\n",
      "            x        y\n",
      "50       1004  1009026\n",
      "57791    1004  1009028\n",
      "80417    1004  1009024\n",
      "443369   1004  1009020\n",
      "2002666  1004  1009028\n",
      "2453176  1004  1009024\n",
      "3173974  1004  1009029\n",
      "3867614  1004  1009023\n",
      "4643483  1004  1009025\n",
      "4971798  1004  1009022\n"
     ]
    }
   ],
   "source": [
    "for i in range(1000,1005):\n",
    "    print(df.loc[df['x'] == i])"
   ]
  },
  {
   "cell_type": "code",
   "execution_count": 11,
   "metadata": {},
   "outputs": [],
   "source": [
    "def seq_model(lr=0.001, hidden_layers=3, hidden_layers_size=100, batch_normalization=False):\n",
    "    \n",
    "    print('hl={} hls={} lr={}'.format(hidden_layers, hidden_layers_size, lr))\n",
    "    \n",
    "    x_input = Input(shape=(1,)) # X\n",
    "    \n",
    "    input_layer = Dense(hidden_layers_size, activation='relu', input_shape=(1,))\n",
    "    \n",
    "    model = Sequential()\n",
    "    \n",
    "    if batch_normalization:\n",
    "        model.add(BatchNormalization())\n",
    "    \n",
    "    model.add(input_layer)\n",
    "    \n",
    "    for i in range(0, hidden_layers):\n",
    "        hl = Dense(hidden_layers_size, activation='relu')\n",
    "        model.add(hl)\n",
    "    \n",
    "    output_layer = Dense(1)\n",
    "        \n",
    "    model.add(output_layer)\n",
    "    \n",
    "    adam = Adam(lr=lr)\n",
    "    model.compile(optimizer=adam, loss='mse', metrics=[\"mean_squared_error\"]) # accuracy is only for classification: metrics=['accuracy'])\n",
    "    \n",
    "    model.summary()\n",
    "    \n",
    "    return model"
   ]
  },
  {
   "cell_type": "code",
   "execution_count": 12,
   "metadata": {},
   "outputs": [
    {
     "data": {
      "text/plain": [
       "83333333338.00203"
      ]
     },
     "execution_count": 12,
     "metadata": {},
     "output_type": "execute_result"
    }
   ],
   "source": [
    "df['y'].mean()"
   ]
  },
  {
   "cell_type": "code",
   "execution_count": 13,
   "metadata": {},
   "outputs": [
    {
     "data": {
      "text/plain": [
       "249999500010"
      ]
     },
     "execution_count": 13,
     "metadata": {},
     "output_type": "execute_result"
    }
   ],
   "source": [
    "df['y'].max()"
   ]
  },
  {
   "cell_type": "code",
   "execution_count": 14,
   "metadata": {},
   "outputs": [],
   "source": [
    "df_min = df.min()\n",
    "df_max = df.max()\n",
    "y_min = df['y'].min()\n",
    "y_max = df['y'].max()\n",
    "df = (df - df_min) / (df_max - df_min) # MinMax normalization"
   ]
  },
  {
   "cell_type": "code",
   "execution_count": 15,
   "metadata": {},
   "outputs": [],
   "source": [
    "def from_min_max(y):\n",
    "    print(type(y))\n",
    "    return y * (y_max - y_min) + y_min"
   ]
  },
  {
   "cell_type": "code",
   "execution_count": 16,
   "metadata": {},
   "outputs": [
    {
     "data": {
      "text/plain": [
       "0.3333340000066749"
      ]
     },
     "execution_count": 16,
     "metadata": {},
     "output_type": "execute_result"
    }
   ],
   "source": [
    "df['y'].mean()"
   ]
  },
  {
   "cell_type": "code",
   "execution_count": 17,
   "metadata": {},
   "outputs": [
    {
     "data": {
      "text/plain": [
       "1.0"
      ]
     },
     "execution_count": 17,
     "metadata": {},
     "output_type": "execute_result"
    }
   ],
   "source": [
    "df['y'].max()"
   ]
  },
  {
   "cell_type": "code",
   "execution_count": 18,
   "metadata": {},
   "outputs": [
    {
     "data": {
      "text/html": [
       "<div>\n",
       "<style scoped>\n",
       "    .dataframe tbody tr th:only-of-type {\n",
       "        vertical-align: middle;\n",
       "    }\n",
       "\n",
       "    .dataframe tbody tr th {\n",
       "        vertical-align: top;\n",
       "    }\n",
       "\n",
       "    .dataframe thead th {\n",
       "        text-align: right;\n",
       "    }\n",
       "</style>\n",
       "<table border=\"1\" class=\"dataframe\">\n",
       "  <thead>\n",
       "    <tr style=\"text-align: right;\">\n",
       "      <th></th>\n",
       "      <th>x</th>\n",
       "      <th>y</th>\n",
       "    </tr>\n",
       "  </thead>\n",
       "  <tbody>\n",
       "    <tr>\n",
       "      <th>count</th>\n",
       "      <td>5.000000e+06</td>\n",
       "      <td>5.000000e+06</td>\n",
       "    </tr>\n",
       "    <tr>\n",
       "      <th>mean</th>\n",
       "      <td>5.000000e-01</td>\n",
       "      <td>3.332752e-01</td>\n",
       "    </tr>\n",
       "    <tr>\n",
       "      <th>std</th>\n",
       "      <td>2.887040e-01</td>\n",
       "      <td>2.982292e-01</td>\n",
       "    </tr>\n",
       "    <tr>\n",
       "      <th>min</th>\n",
       "      <td>0.000000e+00</td>\n",
       "      <td>0.000000e+00</td>\n",
       "    </tr>\n",
       "    <tr>\n",
       "      <th>25%</th>\n",
       "      <td>2.500000e-01</td>\n",
       "      <td>6.000000e-02</td>\n",
       "    </tr>\n",
       "    <tr>\n",
       "      <th>50%</th>\n",
       "      <td>5.000000e-01</td>\n",
       "      <td>2.500000e-01</td>\n",
       "    </tr>\n",
       "    <tr>\n",
       "      <th>75%</th>\n",
       "      <td>7.500000e-01</td>\n",
       "      <td>5.600000e-01</td>\n",
       "    </tr>\n",
       "    <tr>\n",
       "      <th>max</th>\n",
       "      <td>1.000000e+00</td>\n",
       "      <td>1.000000e+00</td>\n",
       "    </tr>\n",
       "  </tbody>\n",
       "</table>\n",
       "</div>"
      ],
      "text/plain": [
       "                  x             y\n",
       "count  5.000000e+06  5.000000e+06\n",
       "mean   5.000000e-01  3.332752e-01\n",
       "std    2.887040e-01  2.982292e-01\n",
       "min    0.000000e+00  0.000000e+00\n",
       "25%    2.500000e-01  6.000000e-02\n",
       "50%    5.000000e-01  2.500000e-01\n",
       "75%    7.500000e-01  5.600000e-01\n",
       "max    1.000000e+00  1.000000e+00"
      ]
     },
     "execution_count": 18,
     "metadata": {},
     "output_type": "execute_result"
    }
   ],
   "source": [
    "df.round(2).describe()"
   ]
  },
  {
   "cell_type": "code",
   "execution_count": 19,
   "metadata": {},
   "outputs": [],
   "source": [
    "def fit_model(model, data, patience=3,verbose=1,epochs=5):\n",
    "    if patience:\n",
    "        early = EarlyStopping(monitor=\"loss\", patience=patience, mode='auto')\n",
    "        return model.fit(\n",
    "            data['x'], \n",
    "            data['y'], \n",
    "            validation_split=0.3,\n",
    "            epochs=epochs,\n",
    "            batch_size=256,\n",
    "            verbose=verbose,\n",
    "            callbacks = [early]\n",
    "        ) # Fit our weigths to the data\n",
    "    \n",
    "    return model.fit(\n",
    "            data['x'], \n",
    "            data['y'], \n",
    "            validation_split=0.3,\n",
    "            epochs=epochs,\n",
    "            batch_size=256,\n",
    "            verbose=verbose\n",
    "        ) # Fit our weigths to the data"
   ]
  },
  {
   "cell_type": "code",
   "execution_count": 20,
   "metadata": {},
   "outputs": [],
   "source": [
    "def plot_history(history, classification=False):\n",
    "    # list all data in history\n",
    "    print(history.history.keys())\n",
    "    if classification:\n",
    "        # summarize history for accuracy\n",
    "        plt.plot(history.history['acc'])\n",
    "        plt.plot(history.history['val_acc'])\n",
    "        plt.title('model accuracy')\n",
    "        plt.ylabel('accuracy')\n",
    "        plt.xlabel('epoch')\n",
    "        plt.legend(['train', 'test'], loc='upper left')\n",
    "        plt.show()\n",
    "    # summarize history for loss\n",
    "    plt.plot(history.history['loss'])\n",
    "    plt.plot(history.history['val_loss'])\n",
    "    plt.title('model loss')\n",
    "    plt.ylabel('loss')\n",
    "    plt.xlabel('epoch')\n",
    "    plt.legend(['train', 'test'], loc='upper left')\n",
    "    plt.show()"
   ]
  },
  {
   "cell_type": "code",
   "execution_count": 22,
   "metadata": {},
   "outputs": [
    {
     "name": "stdout",
     "output_type": "stream",
     "text": [
      "---------------\n",
      "---------------\n",
      "---------------\n",
      "Loading ./1-100-0.0001.h5\n",
      "Fitting 0.0001...\n",
      "Loading ./1-100-0.0001-history\n",
      "Saving model and history\n",
      "Plotting fit score...\n",
      "dict_keys(['mean_squared_error', 'loss', 'val_loss', 'val_mean_squared_error'])\n"
     ]
    },
    {
     "data": {
      "image/png": "[encoded data removed]",
      "text/plain": [
       "<Figure size 432x288 with 1 Axes>"
      ]
     },
     "metadata": {
      "needs_background": "light"
     },
     "output_type": "display_data"
    },
    {
     "name": "stdout",
     "output_type": "stream",
     "text": [
      "Predict...\n",
      "[[-0.00020238]]\n",
      "---------------\n",
      "---------------\n",
      "---------------\n",
      "Loading ./1-100-1e-05.h5\n",
      "Fitting 1e-05...\n",
      "Loading ./1-100-1e-05-history\n",
      "Saving model and history\n",
      "Plotting fit score...\n",
      "dict_keys(['mean_squared_error', 'loss', 'val_loss', 'val_mean_squared_error'])\n"
     ]
    },
    {
     "data": {
      "image/png": "[encoded data removed]",
      "text/plain": [
       "<Figure size 432x288 with 1 Axes>"
      ]
     },
     "metadata": {
      "needs_background": "light"
     },
     "output_type": "display_data"
    },
    {
     "name": "stdout",
     "output_type": "stream",
     "text": [
      "Predict...\n",
      "[[-0.00010169]]\n",
      "---------------\n",
      "---------------\n",
      "---------------\n",
      "Loading ./1-100-1e-06.h5\n",
      "Fitting 1e-06...\n",
      "Loading ./1-100-1e-06-history\n",
      "Saving model and history\n",
      "Plotting fit score...\n",
      "dict_keys(['mean_squared_error', 'loss', 'val_loss', 'val_mean_squared_error'])\n"
     ]
    },
    {
     "data": {
      "image/png": "[encoded data removed]",
      "text/plain": [
       "<Figure size 432x288 with 1 Axes>"
      ]
     },
     "metadata": {
      "needs_background": "light"
     },
     "output_type": "display_data"
    },
    {
     "name": "stdout",
     "output_type": "stream",
     "text": [
      "Predict...\n",
      "[[-0.00056171]]\n",
      "---------------\n",
      "---------------\n",
      "---------------\n",
      "Loading ./1-1000-0.0001.h5\n",
      "Fitting 0.0001...\n",
      "Loading ./1-1000-0.0001-history\n",
      "Saving model and history\n",
      "Plotting fit score...\n",
      "dict_keys(['mean_squared_error', 'loss', 'val_loss', 'val_mean_squared_error'])\n"
     ]
    },
    {
     "data": {
      "image/png": "[encoded data removed]",
      "text/plain": [
       "<Figure size 432x288 with 1 Axes>"
      ]
     },
     "metadata": {
      "needs_background": "light"
     },
     "output_type": "display_data"
    },
    {
     "name": "stdout",
     "output_type": "stream",
     "text": [
      "Predict...\n",
      "[[-1.4400485e-05]]\n",
      "---------------\n",
      "---------------\n",
      "---------------\n",
      "Loading ./1-1000-1e-05.h5\n",
      "Fitting 1e-05...\n",
      "Loading ./1-1000-1e-05-history\n",
      "Saving model and history\n",
      "Plotting fit score...\n",
      "dict_keys(['mean_squared_error', 'loss', 'val_loss', 'val_mean_squared_error'])\n"
     ]
    },
    {
     "data": {
      "image/png": "[encoded data removed]",
      "text/plain": [
       "<Figure size 432x288 with 1 Axes>"
      ]
     },
     "metadata": {
      "needs_background": "light"
     },
     "output_type": "display_data"
    },
    {
     "name": "stdout",
     "output_type": "stream",
     "text": [
      "Predict...\n",
      "[[-6.8872934e-05]]\n",
      "---------------\n",
      "---------------\n",
      "---------------\n",
      "Loading ./1-1000-1e-06.h5\n",
      "Fitting 1e-06...\n",
      "Loading ./1-1000-1e-06-history\n",
      "Saving model and history\n",
      "Plotting fit score...\n",
      "dict_keys(['mean_squared_error', 'loss', 'val_loss', 'val_mean_squared_error'])\n"
     ]
    },
    {
     "data": {
      "image/png": "[encoded data removed]",
      "text/plain": [
       "<Figure size 432x288 with 1 Axes>"
      ]
     },
     "metadata": {
      "needs_background": "light"
     },
     "output_type": "display_data"
    },
    {
     "name": "stdout",
     "output_type": "stream",
     "text": [
      "Predict...\n",
      "[[-0.00020549]]\n",
      "---------------\n",
      "---------------\n",
      "---------------\n",
      "Loading ./2-100-0.0001.h5\n",
      "Fitting 0.0001...\n",
      "Loading ./2-100-0.0001-history\n",
      "Saving model and history\n",
      "Plotting fit score...\n",
      "dict_keys(['mean_squared_error', 'loss', 'val_loss', 'val_mean_squared_error'])\n"
     ]
    },
    {
     "data": {
      "image/png": "[encoded data removed]",
      "text/plain": [
       "<Figure size 432x288 with 1 Axes>"
      ]
     },
     "metadata": {
      "needs_background": "light"
     },
     "output_type": "display_data"
    },
    {
     "name": "stdout",
     "output_type": "stream",
     "text": [
      "Predict...\n",
      "[[-8.6641405e-05]]\n",
      "---------------\n",
      "---------------\n",
      "---------------\n",
      "Loading ./2-100-1e-05.h5\n",
      "Fitting 1e-05...\n",
      "Loading ./2-100-1e-05-history\n",
      "Saving model and history\n",
      "Plotting fit score...\n",
      "dict_keys(['mean_squared_error', 'loss', 'val_loss', 'val_mean_squared_error'])\n"
     ]
    },
    {
     "data": {
      "image/png": "[encoded data removed]",
      "text/plain": [
       "<Figure size 432x288 with 1 Axes>"
      ]
     },
     "metadata": {
      "needs_background": "light"
     },
     "output_type": "display_data"
    },
    {
     "name": "stdout",
     "output_type": "stream",
     "text": [
      "Predict...\n",
      "[[-5.315733e-05]]\n",
      "---------------\n",
      "---------------\n",
      "---------------\n",
      "Loading ./2-100-1e-06.h5\n",
      "Fitting 1e-06...\n",
      "Loading ./2-100-1e-06-history\n",
      "Saving model and history\n",
      "Plotting fit score...\n",
      "dict_keys(['mean_squared_error', 'loss', 'val_loss', 'val_mean_squared_error'])\n"
     ]
    },
    {
     "data": {
      "image/png": "[encoded data removed]",
      "text/plain": [
       "<Figure size 432x288 with 1 Axes>"
      ]
     },
     "metadata": {
      "needs_background": "light"
     },
     "output_type": "display_data"
    },
    {
     "name": "stdout",
     "output_type": "stream",
     "text": [
      "Predict...\n",
      "[[-0.0003184]]\n",
      "---------------\n",
      "---------------\n",
      "---------------\n",
      "Loading ./2-1000-0.0001.h5\n",
      "Fitting 0.0001...\n",
      "Loading ./2-1000-0.0001-history\n",
      "Saving model and history\n",
      "Plotting fit score...\n",
      "dict_keys(['mean_squared_error', 'loss', 'val_loss', 'val_mean_squared_error'])\n"
     ]
    },
    {
     "data": {
      "image/png": "[encoded data removed]",
      "text/plain": [
       "<Figure size 432x288 with 1 Axes>"
      ]
     },
     "metadata": {
      "needs_background": "light"
     },
     "output_type": "display_data"
    },
    {
     "name": "stdout",
     "output_type": "stream",
     "text": [
      "Predict...\n",
      "[[1.9487925e-06]]\n",
      "---------------\n",
      "---------------\n",
      "---------------\n",
      "Loading ./2-1000-1e-05.h5\n",
      "Fitting 1e-05...\n",
      "Loading ./2-1000-1e-05-history\n"
     ]
    },
    {
     "ename": "EOFError",
     "evalue": "Ran out of input",
     "output_type": "error",
     "traceback": [
      "\u001b[0;31m---------------------------------------------------------------------------\u001b[0m",
      "\u001b[0;31mEOFError\u001b[0m                                  Traceback (most recent call last)",
      "\u001b[0;32m<ipython-input-22-8852fe456cbf>\u001b[0m in \u001b[0;36m<module>\u001b[0;34m\u001b[0m\n\u001b[1;32m     69\u001b[0m         \u001b[0mhistories\u001b[0m\u001b[0;34m[\u001b[0m\u001b[0mhl\u001b[0m\u001b[0;34m]\u001b[0m \u001b[0;34m=\u001b[0m \u001b[0mhl_h\u001b[0m\u001b[0;34m\u001b[0m\u001b[0;34m\u001b[0m\u001b[0m\n\u001b[1;32m     70\u001b[0m \u001b[0;34m\u001b[0m\u001b[0m\n\u001b[0;32m---> 71\u001b[0;31m \u001b[0mgenerate_models\u001b[0m\u001b[0;34m(\u001b[0m\u001b[0;34m)\u001b[0m\u001b[0;34m\u001b[0m\u001b[0;34m\u001b[0m\u001b[0m\n\u001b[0m",
      "\u001b[0;32m<ipython-input-22-8852fe456cbf>\u001b[0m in \u001b[0;36mgenerate_models\u001b[0;34m(hl_in, hls_in, lr_in, epochs)\u001b[0m\n\u001b[1;32m     42\u001b[0m                 \u001b[0mprint\u001b[0m\u001b[0;34m(\u001b[0m\u001b[0;34m'Fitting {}...'\u001b[0m\u001b[0;34m.\u001b[0m\u001b[0mformat\u001b[0m\u001b[0;34m(\u001b[0m\u001b[0mi\u001b[0m\u001b[0;34m)\u001b[0m\u001b[0;34m)\u001b[0m\u001b[0;34m\u001b[0m\u001b[0;34m\u001b[0m\u001b[0m\n\u001b[1;32m     43\u001b[0m \u001b[0;34m\u001b[0m\u001b[0m\n\u001b[0;32m---> 44\u001b[0;31m                 \u001b[0mhistory\u001b[0m \u001b[0;34m=\u001b[0m \u001b[0mg_load_history\u001b[0m\u001b[0;34m(\u001b[0m\u001b[0mhl\u001b[0m\u001b[0;34m,\u001b[0m\u001b[0mhls\u001b[0m\u001b[0;34m,\u001b[0m\u001b[0mi\u001b[0m\u001b[0;34m)\u001b[0m\u001b[0;34m\u001b[0m\u001b[0;34m\u001b[0m\u001b[0m\n\u001b[0m\u001b[1;32m     45\u001b[0m \u001b[0;34m\u001b[0m\u001b[0m\n\u001b[1;32m     46\u001b[0m                 \u001b[0;32mif\u001b[0m \u001b[0mhistory\u001b[0m \u001b[0;34m==\u001b[0m \u001b[0;32mNone\u001b[0m\u001b[0;34m:\u001b[0m\u001b[0;34m\u001b[0m\u001b[0;34m\u001b[0m\u001b[0m\n",
      "\u001b[0;32m<ipython-input-22-8852fe456cbf>\u001b[0m in \u001b[0;36mg_load_history\u001b[0;34m(hl, hls, lr)\u001b[0m\n\u001b[1;32m      6\u001b[0m         \u001b[0;32mwith\u001b[0m \u001b[0mopen\u001b[0m\u001b[0;34m(\u001b[0m\u001b[0mf_name\u001b[0m\u001b[0;34m,\u001b[0m \u001b[0;34m'rb'\u001b[0m\u001b[0;34m)\u001b[0m \u001b[0;32mas\u001b[0m \u001b[0mf\u001b[0m\u001b[0;34m:\u001b[0m\u001b[0;34m\u001b[0m\u001b[0;34m\u001b[0m\u001b[0m\n\u001b[1;32m      7\u001b[0m             \u001b[0mprint\u001b[0m\u001b[0;34m(\u001b[0m\u001b[0;34m\"Loading {}\"\u001b[0m\u001b[0;34m.\u001b[0m\u001b[0mformat\u001b[0m\u001b[0;34m(\u001b[0m\u001b[0mf_name\u001b[0m\u001b[0;34m)\u001b[0m\u001b[0;34m)\u001b[0m\u001b[0;34m\u001b[0m\u001b[0;34m\u001b[0m\u001b[0m\n\u001b[0;32m----> 8\u001b[0;31m             \u001b[0;32mreturn\u001b[0m \u001b[0mpickle\u001b[0m\u001b[0;34m.\u001b[0m\u001b[0mload\u001b[0m\u001b[0;34m(\u001b[0m\u001b[0mf\u001b[0m\u001b[0;34m)\u001b[0m\u001b[0;34m\u001b[0m\u001b[0;34m\u001b[0m\u001b[0m\n\u001b[0m\u001b[1;32m      9\u001b[0m     \u001b[0;32melse\u001b[0m\u001b[0;34m:\u001b[0m\u001b[0;34m\u001b[0m\u001b[0;34m\u001b[0m\u001b[0m\n\u001b[1;32m     10\u001b[0m         \u001b[0mprint\u001b[0m\u001b[0;34m(\u001b[0m\u001b[0;34m\"Couldnt find {}\"\u001b[0m\u001b[0;34m.\u001b[0m\u001b[0mformat\u001b[0m\u001b[0;34m(\u001b[0m\u001b[0mf_name\u001b[0m\u001b[0;34m)\u001b[0m\u001b[0;34m)\u001b[0m\u001b[0;34m\u001b[0m\u001b[0;34m\u001b[0m\u001b[0m\n",
      "\u001b[0;31mEOFError\u001b[0m: Ran out of input"
     ]
    }
   ],
   "source": [
    "histories = {}\n",
    "\n",
    "def g_load_history(hl,hls,lr):\n",
    "    f_name = './{}-{}-{}-history'.format(hl,hls,lr)\n",
    "    if os.path.exists(f_name):\n",
    "        with open(f_name, 'rb') as f:\n",
    "            print(\"Loading {}\".format(f_name))\n",
    "            return pickle.load(f)\n",
    "    else:\n",
    "        print(\"Couldnt find {}\".format(f_name))\n",
    "        return None\n",
    "    \n",
    "def g_load_model(hl,hls,lr):\n",
    "    f_name = './{}-{}-{}.h5'.format(hl,hls,lr)\n",
    "    if os.path.exists(f_name):\n",
    "        print(\"Loading {}\".format(f_name))\n",
    "        return load_model(f_name)\n",
    "    else:\n",
    "        print(\"Couldnt find {}\".format(f_name))\n",
    "        return None\n",
    "\n",
    "def generate_models(hl_in=[1,2,3], hls_in=[100,1000], lr_in=[0.0001, 0.00001, 0.000001], epochs=20):\n",
    "    for hl in hl_in: #, 3]: # Try different number of hidden layers\n",
    "\n",
    "        hl_h = histories.get(hl, {})\n",
    "\n",
    "        for hls in hls_in:\n",
    "\n",
    "            hls_h = hl_h.get(hls, {})\n",
    "\n",
    "            for i in lr_in: #[0.001, 0.0001, 0.00001]: # Try different learning rates\n",
    "\n",
    "                print('---------------')\n",
    "                print('---------------')\n",
    "                print('---------------')\n",
    "\n",
    "                model = g_load_model(hl,hls,i)\n",
    "                \n",
    "                if model == None:\n",
    "                    model = seq_model(lr=i, hidden_layers=hl, hidden_layers_size=hls)\n",
    "                    print('Saving model and history')\n",
    "                    model.save('{}-{}-{}.h5'.format(hl,hls,i))\n",
    "\n",
    "                print('Fitting {}...'.format(i))\n",
    "                \n",
    "                history = g_load_history(hl,hls,i)\n",
    "                \n",
    "                if history == None:\n",
    "                    history = fit_model(model, df, patience=3, verbose=1, epochs=epochs)\n",
    "                \n",
    "                    with open('{}-{}-{}-history'.format(hl,hls,i), 'wb') as f:\n",
    "                        pickle.dump(history, f)\n",
    "\n",
    "                #print('Evaluate...')\n",
    "                #scores = model.evaluate(df['x'], df['y'])\n",
    "                # Accuracy is only for classification\n",
    "                # print(\"%s: %.2f%%\" % (model.metrics_names[1], scores[1]*100))\n",
    "\n",
    "                print('Plotting fit score...')\n",
    "                plot_history(history)\n",
    "\n",
    "                print('Predict...')\n",
    "                print(model.predict([0.00005]))\n",
    "\n",
    "                hls_h[i] =  {'hls': hls, 'hls_h': hls_h, 'lr': i, 'model': model, 'history': history}\n",
    "\n",
    "            hl_h[hls] = hls_h\n",
    "\n",
    "        histories[hl] = hl_h\n",
    "    \n",
    "generate_models()"
   ]
  },
  {
   "cell_type": "code",
   "execution_count": null,
   "metadata": {},
   "outputs": [],
   "source": [
    "df.loc[df['x'].round(6) == 0.00005]"
   ]
  },
  {
   "cell_type": "code",
   "execution_count": null,
   "metadata": {},
   "outputs": [],
   "source": [
    "def plot_histories(prop):\n",
    "    legend=[]\n",
    "\n",
    "    plt.figure(figsize=(20, 6))\n",
    "    plt.title('model loss')\n",
    "    plt.ylabel('loss')\n",
    "    plt.xlabel('epoch')\n",
    "    plt.yscale('log')\n",
    "\n",
    "    for hl in histories.keys():\n",
    "        for hls in histories[hl].keys():\n",
    "            for lr in histories[hl][hls].keys():\n",
    "                print('hl={} hls={} lr={} min_loss={} min_val_loss={}'.format(\n",
    "                    hl, \n",
    "                    hls, \n",
    "                    lr,\n",
    "                    min(histories[hl][hls][lr]['history'].history[prop]) * (y_max - y_min) + y_min,\n",
    "                ))\n",
    "                plt.plot(histories[hl][hls][lr]['history'].history[prop])\n",
    "                legend = legend + [ 'train-{}-{}-{}'.format(hl,hls,lr), 'test-{}-{}-{}'.format(hl,hls,lr) ]\n",
    "\n",
    "    plt.legend(legend, loc='best', ncol=5)\n",
    "    plt.show()\n",
    "    \n",
    "plot_histories('loss')\n",
    "plot_histories('val_loss')"
   ]
  },
  {
   "cell_type": "code",
   "execution_count": null,
   "metadata": {},
   "outputs": [],
   "source": [
    "# Generate new data to test\n",
    "\n",
    "new_data = []\n",
    "\n",
    "for i in range(0,N):\n",
    "    new_data.append([i,f(i,random_factor=100)])\n",
    "    \n",
    "new_df = pd.DataFrame(new_data, columns=['x','y'])\n",
    "new_y_min = new_df.min()\n",
    "new_y_max = new_df.max()\n",
    "new_df = (new_df - new_y_min) / (new_y_max - new_y_min) # MinMax normalization\n",
    "\n",
    "x = new_df['x']\n",
    "y = new_df['y']"
   ]
  },
  {
   "cell_type": "code",
   "execution_count": null,
   "metadata": {},
   "outputs": [],
   "source": [
    "legend=[]\n",
    "\n",
    "plt.figure(figsize=(20, 6))\n",
    "plt.plot(x, y, 'o')\n",
    "legend = legend + [ 'original data' ]\n",
    "plt.title('Predictions')\n",
    "#plt.yscale('log')\n",
    "\n",
    "for hl in histories.keys():\n",
    "    for hls in histories[hl].keys():\n",
    "        for lr in histories[hl][hls].keys():\n",
    "            plt.plot(x, histories[hl][hls][lr]['model'].predict(x))\n",
    "            legend = legend + [ '{}-{}-{}'.format(hl,hls,lr) ]\n",
    "            #print(\"Done\")\n",
    "            \n",
    "\n",
    "plt.legend(legend, loc='best', ncol=5)\n",
    "plt.show()"
   ]
  }
 ],
 "metadata": {
  "kernelspec": {
   "display_name": "Python 3",
   "language": "python",
   "name": "python3"
  },
  "language_info": {
   "codemirror_mode": {
    "name": "ipython",
    "version": 3
   },
   "file_extension": ".py",
   "mimetype": "text/x-python",
   "name": "python",
   "nbconvert_exporter": "python",
   "pygments_lexer": "ipython3",
   "version": "3.6.7"
  }
 },
 "nbformat": 4,
 "nbformat_minor": 2
}
